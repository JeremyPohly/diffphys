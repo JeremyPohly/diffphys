{
 "cells": [
  {
   "cell_type": "markdown",
   "id": "3496b8f6",
   "metadata": {},
   "source": [
    "# Software 2.0 with `JAX`\n",
    "**Demonstrating Differentiable Physics with Ballistic Motion**\n",
    "\n",
    "<a target=\"_blank\" href=\"https://colab.research.google.com/github/JeremyPohly/diffphys/blob/main/ballistics.ipynb\">\n",
    "  <img src=\"https://colab.research.google.com/assets/colab-badge.svg\" alt=\"Open In Colab\"/>\n",
    "</a>"
   ]
  },
  {
   "cell_type": "code",
   "execution_count": 1,
   "id": "5283fa10",
   "metadata": {},
   "outputs": [],
   "source": [
    "import jax\n",
    "import jax.numpy as jnp\n",
    "from jax import lax, grad"
   ]
  },
  {
   "cell_type": "markdown",
   "id": "a6bd0541",
   "metadata": {},
   "source": [
    "## Background\n",
    " \n",
    "XX\n",
    " "
   ]
  },
  {
   "cell_type": "markdown",
   "id": "f39bdf68",
   "metadata": {},
   "source": [
    "## General Equations of Motion\n",
    " \n",
    "$$\n",
    "\\begin{align}\n",
    "    \\ddot{x} = -C_d^* v \\dot{x} \\\\\n",
    "    \\ddot{y} = -g - C_d^* v \\dot{y}\n",
    "\\end{align}\n",
    "$$\n",
    " \n",
    "where \n",
    " "
   ]
  },
  {
   "cell_type": "code",
   "execution_count": 2,
   "id": "95db21b1",
   "metadata": {},
   "outputs": [],
   "source": [
    "class BallisticStepper:\n",
    "    g = 9.81\n",
    "    dt = 0.01\n",
    "    def __init__(self, cd=0.0):\n",
    "        self.cd = cd\n",
    "\n",
    "    def eoms(self, state):\n",
    "        cd = self.cd\n",
    "        g = BallisticStepper.g\n",
    "\n",
    "        x, y, x_dot, y_dot = state\n",
    "        v_mag = jnp.sqrt(x_dot**2 + y_dot**2)\n",
    "        x_ddot = -cd * v_mag * x_dot\n",
    "        y_ddot = -g - cd * v_mag * y_dot\n",
    "\n",
    "        return jnp.array([x_dot, y_dot, x_ddot, y_ddot])\n",
    "\n",
    "    def integrate(self, state):\n",
    "        return state + BallisticStepper.dt*self.eoms(state)\n",
    "\n",
    "    def __call__(self, state):\n",
    "        return self.integrate(state)\n",
    "\n",
    "def rollout(stepper, n_steps: int, include_init: bool = False):\n",
    "    \"\"\"\n",
    "    Roll out the dynamics over a given time array.\n",
    "\n",
    "    Args:\n",
    "        stepper: Function to compute the next state, accepts (state).\n",
    "        time_array: Array of time points.\n",
    "        include_init: Whether to include the initial state in the trajectory.\n",
    "\n",
    "    Returns:\n",
    "        Trajectory of states as a JAX array.\n",
    "    \"\"\"\n",
    "    def scan_fn(carry, _):\n",
    "        state, done = carry\n",
    "        next_state = stepper(state)\n",
    "        new_done = jnp.logical_or(done, next_state[1] < 0.0)\n",
    "        next_state = jnp.where(done, state, next_state)\n",
    "        return (next_state, new_done), next_state \n",
    "\n",
    "    def rollout_fn(state_init):\n",
    "        init_done = False\n",
    "        (final_state, _), trj = jax.lax.scan(scan_fn, (state_init, init_done),\n",
    "            xs=None, length=n_steps)\n",
    "\n",
    "        if include_init:\n",
    "            return jnp.concatenate(\n",
    "                [jnp.expand_dims(state_init, axis=0), trj], axis=0)\n",
    "\n",
    "        return trj\n",
    "\n",
    "    return jax.jit(rollout_fn)\n",
    "\n",
    "def calc_vac_xf(theta, v, g):\n",
    "    return v**2 * jnp.sin(2*theta) / g\n",
    "\n",
    "stepper_vac = BallisticStepper(cd=0.0)\n",
    "stepper_atm = BallisticStepper(cd=0.001)\n",
    "\n",
    "n_steps = 5_000\n",
    "v_mag_0 = 100.0\n",
    "theta_0 = jnp.deg2rad(45.0)\n",
    "x_dot_0 = v_mag_0 * jnp.cos(theta_0)\n",
    "y_dot_0 = v_mag_0 * jnp.sin(theta_0)\n",
    "\n",
    "# Construct the initial state:\n",
    "state_0 = jnp.array([0.0, 0.0, x_dot_0, y_dot_0])\n",
    "\n",
    "trj_vac = rollout(stepper_vac, n_steps, include_init=True)(state_0)\n",
    "trj_atm = rollout(stepper_atm, n_steps, include_init=True)(state_0)"
   ]
  },
  {
   "cell_type": "code",
   "execution_count": 3,
   "id": "3eeb8a24",
   "metadata": {},
   "outputs": [
    {
     "data": {
      "image/png": "[encoded data removed]",
      "text/plain": [
       "<Figure size 750x750 with 1 Axes>"
      ]
     },
     "metadata": {},
     "output_type": "display_data"
    }
   ],
   "source": [
    "import matplotlib.pyplot as plt\n",
    "\n",
    "fig = plt.figure(figsize=(5,5), dpi=150)\n",
    "ax = fig.add_subplot(111)\n",
    "ax.set_aspect(\"equal\")\n",
    "\n",
    "ax.axvline(calc_vac_xf(theta_0, v_mag_0, 9.81), c='r')\n",
    "ax.plot(trj_vac[:,0], trj_vac[:,1], label=\"vacuum\")\n",
    "ax.plot(trj_atm[:,0], trj_atm[:,1], label=\"quadratic drag\")\n",
    "ax.set_xlabel(r\"$x$ (m)\")\n",
    "ax.set_ylabel(r\"$y$ (m)\")\n",
    "ax.grid()\n"
   ]
  },
  {
   "cell_type": "code",
   "execution_count": null,
   "id": "859b13cb",
   "metadata": {},
   "outputs": [],
   "source": []
  }
 ],
 "metadata": {
  "kernelspec": {
   "display_name": "jax-env",
   "language": "python",
   "name": "python3"
  },
  "language_info": {
   "codemirror_mode": {
    "name": "ipython",
    "version": 3
   },
   "file_extension": ".py",
   "mimetype": "text/x-python",
   "name": "python",
   "nbconvert_exporter": "python",
   "pygments_lexer": "ipython3",
   "version": "3.11.11"
  }
 },
 "nbformat": 4,
 "nbformat_minor": 5
}
