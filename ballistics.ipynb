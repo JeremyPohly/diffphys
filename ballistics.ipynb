{
 "cells": [
  {
   "cell_type": "markdown",
   "id": "3496b8f6",
   "metadata": {},
   "source": [
    "# Differentiable Physics with `JAX`\n",
    "**A 5 Minute Technical Overview with Examples**\n",
    "\n",
    "<a target=\"_blank\" href=\"https://colab.research.google.com/github/JeremyPohly/diffphys/blob/main/ballistics.ipynb\">\n",
    "  <img src=\"https://colab.research.google.com/assets/colab-badge.svg\" alt=\"Open In Colab\"/>\n",
    "</a>\n"
   ]
  },
  {
   "cell_type": "markdown",
   "id": "db44026c",
   "metadata": {},
   "source": [
    "## Background & Motivation\n",
    "\n",
    "- **Physics-based modeling** is the backbone of engineering and scientific simulation.\n",
    "- Traditional pipelines (CFD, FEM, thermal, *etc*. sims) involve:\n",
    "  - Solving ODEs/PDEs\n",
    "  - No easy way to compute gradients\n",
    "  - **Tuning parameters by hand/trial and error**"
   ]
  },
  {
   "cell_type": "markdown",
   "id": "8f0a9bf7",
   "metadata": {},
   "source": [
    "**Example**\n",
    "- Simulated freely flying insects for my doctoral work\n",
    "- High degree-of-freedom system\n",
    "  - Body parameters - mass, inertia, center of gravity, etc.\n",
    "  - Abdoment - mass, inertia, kinematics \n",
    "  - Wings - mass, inertia, structural, kinematics $\\rightarrow$ aerodynamics\n",
    "- Very difficult to understand effects small changes in parameters have on\n",
    "resulting body motion\n",
    "- Very expensive to evaluate cost function for unsteady, tightly-coupled CFD simulations\n",
    "- No closed form expression solution for 1st order, gradient-based optimizers"
   ]
  },
  {
   "cell_type": "code",
   "execution_count": 1,
   "id": "40daa804",
   "metadata": {},
   "outputs": [
    {
     "data": {
      "text/html": [
       "<video src=\"./media/animate_combined_inertial_body.mp4\" controls  >\n",
       "      Your browser does not support the <code>video</code> element.\n",
       "    </video>"
      ],
      "text/plain": [
       "<IPython.core.display.Video object>"
      ]
     },
     "execution_count": 1,
     "metadata": {},
     "output_type": "execute_result"
    }
   ],
   "source": [
    "from IPython.display import Video\n",
    "Video(\"./media/animate_combined_inertial_body.mp4\")"
   ]
  },
  {
   "cell_type": "markdown",
   "id": "4106146b",
   "metadata": {},
   "source": [
    "> Numerical solution for highly nonlinear trajectory of freely flying monarch butterfly"
   ]
  },
  {
   "cell_type": "markdown",
   "id": "e09329f7",
   "metadata": {},
   "source": [
    "**Enter differentiable physics:**\n",
    "- Combine physical models with **automatic differentiation (autodiff)**.\n",
    "- Enables:\n",
    "  - Gradient-based optimization (e.g. control, design, calibration)\n",
    "\\begin{aligned}\n",
    "  {x}_{n+1} = {x}_n - \\gamma \\underbrace{\\nabla_{x}f({x})}_\\text{typically not known}\n",
    "\\end{aligned}\n",
    "  - Physics-informed machine learning\n",
    "    - Don't learn the physics from scratch\n",
    "    - Learn the missing physics by differentiating through\n",
    "    what we already know\n",
    "  - Inverse problems and real-time sensitivity analysis\n",
    "    - Utilize gradient-based optimization\n",
    "    - Efficiently determine inputs required for some known output\n",
    "    - Useful in matching M&S to experiments"
   ]
  },
  {
   "cell_type": "markdown",
   "id": "2241c051",
   "metadata": {},
   "source": [
    "\n",
    "**Why JAX?**\n",
    "- NumPy-like syntax, GPU/TPU acceleration\n",
    "- Native `grad`, `jacfwd`, `jit`, `vmap`, and `lax.scan` tools\n",
    "- Great for integrating simulation + learning\n",
    "\n"
   ]
  },
  {
   "cell_type": "markdown",
   "id": "309551ca",
   "metadata": {},
   "source": [
    "## Motivating Example: Ballistic Motion\n",
    "\n",
    "![](./media/ballistic_01.svg)\n",
    "> Simple 2-DOF ballistic motion\n",
    "\n",
    "- Simple, intuitive physical system\n",
    "- Great way to show:\n",
    "  - Closed-form vs. simulation-based approaches\n",
    "  - Where autodiff becomes essential\n",
    "- Lets us explore a realistic modeling pipeline without complexity overhead\n",
    "\n",
    "**Highlighting differentiable physics:**\n",
    "- Gradient-based optimization for inverse problem:\n",
    "  - Solve for launch angle and velocity to hit desired target location $(x_t, y_t)$\n",
    "  - Could also be viewd as: Given the landing point of projectile, what was the initial launch angle and velocity?\n",
    "- Differentiable physics:\n",
    "  - What drag coefficient was used to generate a given trajectory?\n",
    "\n",
    "### Equations of Motion\n",
    "\n",
    "\\begin{align}\n",
    "    \\ddot{x} = -C_d^* v \\dot{x} \\\\\n",
    "    \\ddot{y} = -g - C_d^* v \\dot{y}\n",
    "\\end{align}\n",
    " \n",
    "where \n",
    " "
   ]
  },
  {
   "cell_type": "code",
   "execution_count": 2,
   "id": "95db21b1",
   "metadata": {},
   "outputs": [],
   "source": [
    "import jax\n",
    "import jax.numpy as jnp\n",
    "from stepper import BallisticStepper\n",
    "from rollout import rollout\n",
    "\n",
    "# Create two steppers with different drag coefficients.\n",
    "# One for a vacuum (no drag) and one for an atmosphere (with drag).\n",
    "stepper_vac = BallisticStepper(cd=0.0, dt=0.005)\n",
    "stepper_atm = BallisticStepper(cd=0.001, dt=0.005)\n",
    "\n",
    "# Define initial conditions:\n",
    "v_mag_0 = 100.0\n",
    "theta_0 = jnp.deg2rad(35.0)\n",
    "# Initial velocity in the x and y directions:\n",
    "x_dot_0, y_dot_0 = [v_mag_0 * jnp.cos(theta_0), v_mag_0 * jnp.sin(theta_0)]\n",
    "\n",
    "# Construct the initial state:\n",
    "state_0 = jnp.array([0.0, 0.0, x_dot_0, y_dot_0])\n",
    "\n",
    "# Create the trajectories by unrolling the steppers\n",
    "trj_vac = rollout(stepper_vac, n_steps=5_000, include_init=True)(state_0)\n",
    "trj_atm = rollout(stepper_atm, n_steps=5_000, include_init=True)(state_0)"
   ]
  },
  {
   "cell_type": "code",
   "execution_count": 3,
   "id": "3eeb8a24",
   "metadata": {},
   "outputs": [
    {
     "data": {
      "text/plain": [
       "<matplotlib.legend.Legend at 0x70145438cfd0>"
      ]
     },
     "execution_count": 3,
     "metadata": {},
     "output_type": "execute_result"
    },
    {
     "data": {
      "image/png": "[encoded data removed]",
      "text/plain": [
       "<Figure size 750x750 with 1 Axes>"
      ]
     },
     "metadata": {},
     "output_type": "display_data"
    }
   ],
   "source": [
    "# Plot\n",
    "import matplotlib.pyplot as plt\n",
    "\n",
    "fig = plt.figure(figsize=(5,5), dpi=150)\n",
    "ax = fig.add_subplot(111)\n",
    "ax.set_aspect(\"equal\")\n",
    "\n",
    "xf = lambda theta, v_mag: v_mag**2 * jnp.sin(2. * theta) / 9.81\n",
    "ax.axvline(xf(theta_0, v_mag_0), c=\"r\", ls=\"--\", label=\"range\")\n",
    "ax.plot(trj_vac[:,0], trj_vac[:,1], label=\"vacuum\")\n",
    "ax.plot(trj_atm[:,0], trj_atm[:,1], label=\"quadratic drag\")\n",
    "ax.set_xlabel(r\"$x$ (m)\")\n",
    "ax.set_ylabel(r\"$y$ (m)\")\n",
    "ax.grid()\n",
    "ax.legend(fontsize=6)"
   ]
  },
  {
   "cell_type": "markdown",
   "id": "6454cd1a",
   "metadata": {},
   "source": [
    "## Stage 1: Simple Ballistic Motion — Flat Ground (`y_f = 0`)\n",
    "\n",
    "**Problem Setup:**\n",
    "- Model: constant gravity, no drag.\n",
    "- Launch parameters: initial speed `v0`, angle `theta0`.\n",
    "- Impact height: `y_f = 0`.\n",
    "\n",
    "**Closed-form solution:**\n",
    "Can solve for $x_f$:\n",
    "  - First solve $t_f$ from $y(t_f) = 0$\n",
    "  - Then solve $x_f = x(t_f)$ \n",
    "\\begin{aligned}\n",
    "x_f = \\frac{v_0^2 \\sin(2\\theta)}{g}\n",
    "\\end{aligned}\n",
    "\n",
    "**Jacobian (partial derivatives):**\n",
    "\n",
    "\\begin{aligned}\n",
    "  \\nabla_{x_f}f(x_f)\n",
    "\\end{aligned}\n",
    "\n",
    "\\begin{aligned}\n",
    "\\frac{\\partial x_f}{\\partial v_0} = \\frac{2v_0 \\sin(2\\theta)}{g}, \\quad\n",
    "\\frac{\\partial x_f}{\\partial \\theta} = \\frac{2v_0^2 \\cos(2\\theta)}{g}\n",
    "\\end{aligned}\n",
    "\n",
    "**Why it matters:**\n",
    "- Demonstrates analytical overhead\n",
    "- Validates analytical/numerical gradient solutions"
   ]
  },
  {
   "cell_type": "code",
   "execution_count": 4,
   "id": "51b378e9",
   "metadata": {},
   "outputs": [
    {
     "name": "stdout",
     "output_type": "stream",
     "text": [
      "dx/dv0 = 19.16 m/s\n",
      "dx/dtheta = 697.29 m/rad\n"
     ]
    }
   ],
   "source": [
    "dx_dv0 = 2 * v_mag_0 * jnp.sin(2*theta_0) / 9.81\n",
    "dx_dtheta = 2 * v_mag_0**2 / 9.81 * jnp.cos(2 * theta_0)\n",
    "print(f\"dx/dv0 = {dx_dv0:.2f} m/s\")\n",
    "print(f\"dx/dtheta = {dx_dtheta:.2f} m/rad\")"
   ]
  },
  {
   "cell_type": "code",
   "execution_count": 5,
   "id": "fcb96675",
   "metadata": {},
   "outputs": [],
   "source": [
    "# Need to deterimine a precise value for the x-coordinate of the ground crossing\n",
    "def interpolate_ground_crossing(trj):\n",
    "    ys = trj[:, 1]\n",
    "    crossing_idx = jnp.argmax(ys < 0)  # first index where y < 0\n",
    "\n",
    "    state_before = trj[crossing_idx - 1]\n",
    "    state_after = trj[crossing_idx]\n",
    "\n",
    "    y0, y1 = state_before[1], state_after[1]\n",
    "    x0, x1 = state_before[0], state_after[0]\n",
    "\n",
    "    frac = y0 / (y0 - y1 + 1e-6)\n",
    "    x_cross = x0 + frac * (x1 - x0)\n",
    "    return x_cross"
   ]
  },
  {
   "cell_type": "code",
   "execution_count": 6,
   "id": "0c304e70",
   "metadata": {},
   "outputs": [],
   "source": [
    "# Compute the gradient of the final x-location with respect to the input parameters\n",
    "def final_state_fn(params, stepper):\n",
    "    \"\"\"\n",
    "    Simulate the vacuum trajectory.\n",
    "    Here, we want to input the initial states as v0, theta0\n",
    "    and get the final state as x, y, vx, vy.\n",
    "    \"\"\"\n",
    "    v0, theta0 = params\n",
    "    x_dot_0, y_dot_0 = [v0 * jnp.cos(theta0), v0 * jnp.sin(theta0)]\n",
    "    state_0 = jnp.array([0.0, 0.0, x_dot_0, y_dot_0])\n",
    "    trj = rollout(stepper=stepper, n_steps=5_000, include_init=True)(state_0)\n",
    "    # return trj[-1, 0] # final x position\n",
    "    return interpolate_ground_crossing(trj)\n"
   ]
  },
  {
   "cell_type": "code",
   "execution_count": 7,
   "id": "4ec9d11f",
   "metadata": {},
   "outputs": [
    {
     "name": "stdout",
     "output_type": "stream",
     "text": [
      "dx/dv0 = 19.16 m/s\n",
      "dx/dtheta = 697.24 m/rad\n"
     ]
    }
   ],
   "source": [
    "from jax import grad\n",
    "grad_fn = jax.grad(final_state_fn, argnums=0)\n",
    "params = jnp.array([v_mag_0, theta_0])\n",
    "grad = grad_fn(params, stepper_vac)\n",
    "print(f\"dx/dv0 = {grad[0]:.2f} m/s\")\n",
    "print(f\"dx/dtheta = {grad[1]:.2f} m/rad\")"
   ]
  },
  {
   "cell_type": "markdown",
   "id": "39942b05",
   "metadata": {},
   "source": [
    "## Example 2: Including Drag & Solving for Desired $x_f$\n",
    "\n",
    "**Problem Setup:**\n",
    "- Model: constant gravity, **with drag**.\n",
    "- Launch parameters: initial speed `v0`, angle `theta0`.\n",
    "- Impact height: `y_f = 0`.\n",
    "\n",
    "**Closed-form solution:**\n",
    "None\n",
    "\n",
    "**Why it matters:**\n",
    "- Demonstrates finding gradients when no analytical solution exists\n",
    "- Scales to high DOF nonlinear systems"
   ]
  },
  {
   "cell_type": "markdown",
   "id": "28fb40de",
   "metadata": {},
   "source": [
    "### Loss Function:\n",
    "\n",
    "We define a simple `mse`-like loss function where\n",
    "\n",
    "\\begin{aligned}\n",
    "  f_\\text{loss} = (x_\\text{final} - x_\\text{desired})^2\n",
    "\\end{aligned}"
   ]
  },
  {
   "cell_type": "code",
   "execution_count": null,
   "id": "b69c1218",
   "metadata": {},
   "outputs": [
    {
     "name": "stdout",
     "output_type": "stream",
     "text": [
      "loss = 0.15\n"
     ]
    }
   ],
   "source": [
    "# Define a loss function to minimize\n",
    "def loss_fn(params, stepper, x_target):\n",
    "    x_f = final_state_fn(params, stepper)\n",
    "    return (x_f - x_target)**2\n"
   ]
  },
  {
   "cell_type": "markdown",
   "id": "ec534104",
   "metadata": {},
   "source": [
    "We can test it against the analytical solution for $v_o$ and $\\theta_o$ that are required for a desired $x_f$."
   ]
  },
  {
   "cell_type": "code",
   "execution_count": 73,
   "id": "46f83405",
   "metadata": {},
   "outputs": [
    {
     "name": "stdout",
     "output_type": "stream",
     "text": [
      "loss = 0.15\n"
     ]
    }
   ],
   "source": [
    "# Test the loss on known values for vacuum case:\n",
    "# Will also set our tolerance for the optimizer\n",
    "x_target = xf(theta_0, v_mag_0)\n",
    "params = jnp.array([v_mag_0, theta_0])\n",
    "loss = loss_fn(params, stepper_vac, x_target)\n",
    "print(f\"loss = {loss:.2f}\")"
   ]
  },
  {
   "cell_type": "markdown",
   "id": "4f2872ee",
   "metadata": {},
   "source": [
    "Now we create the optimization loop where we apply a simple gradient descent as described before, which is doable using the `JAX`-calculated gradients of the final position w.r.t the initial conditions $v_o$ and $\\theta_o$."
   ]
  },
  {
   "cell_type": "code",
   "execution_count": null,
   "id": "78888168",
   "metadata": {},
   "outputs": [
    {
     "name": "stdout",
     "output_type": "stream",
     "text": [
      "iter 0: loss = 12236.99, params = (Array(105.70252, dtype=float32), Array(67.82077, dtype=float32))\n",
      "iter 1: loss = 26044.43, params = (Array(110.5657, dtype=float32), Array(52.75686, dtype=float32))\n",
      "iter 2: loss = 59169.34, params = (Array(99.9957, dtype=float32), Array(62.050507, dtype=float32))\n",
      "iter 3: loss = 12918.89, params = (Array(103.83386, dtype=float32), Array(54.604137, dtype=float32))\n",
      "iter 4: loss = 6444.36, params = (Array(100.62435, dtype=float32), Array(57.93325, dtype=float32))\n",
      "iter 5: loss = 835.90, params = (Array(101.69201, dtype=float32), Array(56.440815, dtype=float32))\n",
      "iter 6: loss = 184.47, params = (Array(101.173096, dtype=float32), Array(57.079212, dtype=float32))\n",
      "iter 7: loss = 31.38, params = (Array(101.383995, dtype=float32), Array(56.804974, dtype=float32))\n",
      "iter 8: loss = 5.99, params = (Array(101.29132, dtype=float32), Array(56.922695, dtype=float32))\n",
      "iter 9: loss = 0.99, params = (Array(101.32893, dtype=float32), Array(56.87445, dtype=float32))\n",
      "iter 10: loss = 0.14, params = (Array(101.31486, dtype=float32), Array(56.892437, dtype=float32))\n",
      "iter 11: loss = 0.03, params = (Array(101.32086, dtype=float32), Array(56.884758, dtype=float32))\n",
      "iter 12: loss = 0.02, params = (Array(101.31594, dtype=float32), Array(56.89105, dtype=float32))\n",
      "iter 13: loss = 0.00, params = (Array(101.31817, dtype=float32), Array(56.8882, dtype=float32))\n",
      "iter 14: loss = 0.00, params = (Array(101.31867, dtype=float32), Array(56.887558, dtype=float32))\n",
      "Converged\n"
     ]
    }
   ],
   "source": [
    "# Define the loss function and its gradient\n",
    "grad_fn = jax.grad(loss_fn, argnums=0)\n",
    "\n",
    "# Set initial guess for the optimizer\n",
    "initial_v0 = 110.0\n",
    "initial_theta = jnp.deg2rad(60.0)\n",
    "params = jnp.array([initial_v0, initial_theta])\n",
    "\n",
    "# Set hyperparameters for the optimizer\n",
    "n_iters = 20\n",
    "lr_v = 1e-3\n",
    "lr_theta = 5e-7\n",
    "tolerance = 1e-3\n",
    "\n",
    "# Track the parameters\n",
    "param_list = []\n",
    "\n",
    "# Gradient descent loop\n",
    "for i in range(n_iters):\n",
    "    loss = loss_fn(params, stepper_vac, x_target)\n",
    "    grads = grad_fn(params, stepper_vac, x_target)\n",
    "    params = params.at[0].add(-lr_v * grads[0])\n",
    "    params = params.at[1].add(-lr_theta * grads[1])\n",
    "    param_list.append(params)\n",
    "    print(f\"iter {i}: loss = {loss:.2f}, params = {params[0], jnp.rad2deg(params[1])}\") \n",
    "    if loss < tolerance:\n",
    "        print(\"Converged\")\n",
    "        break\n"
   ]
  },
  {
   "cell_type": "markdown",
   "id": "a68f133e",
   "metadata": {},
   "source": [
    "### Analyze Solution and Utilize `jax.vmap` for Parallel Trajectory Solutions"
   ]
  },
  {
   "cell_type": "code",
   "execution_count": null,
   "id": "b4a325e6",
   "metadata": {},
   "outputs": [],
   "source": [
    "# Run the final trajectory\n",
    "state_0 = jnp.array([0.0, 0.0, params[0] * jnp.cos(params[1]), params[0] * jnp.sin(params[1])])\n",
    "trj_final = rollout(stepper_vac, n_steps=5_000, include_init=True)(state_0)"
   ]
  },
  {
   "cell_type": "code",
   "execution_count": null,
   "id": "f0dcf5b5",
   "metadata": {},
   "outputs": [],
   "source": [
    "# Create initial conditions from all of the param_list values\n",
    "states_0 = []\n",
    "for p in param_list:\n",
    "    v0, theta0 = p\n",
    "    x_dot_0, y_dot_0 = [v0 * jnp.cos(theta0), v0 * jnp.sin(theta0)]\n",
    "    state_0 = jnp.array([0.0, 0.0, x_dot_0, y_dot_0])\n",
    "    states_0.append(state_0)\n",
    "states_0 = jnp.stack(states_0)\n",
    "\n",
    "# Batch rollout across all initial conditions using jnp.vmap\n",
    "trj_all = jax.vmap(rollout(stepper_vac, n_steps=5_000, include_init=True), in_axes=(0,))(states_0)"
   ]
  },
  {
   "cell_type": "markdown",
   "id": "bbc8cf18",
   "metadata": {},
   "source": [
    "### Plot Final Solution"
   ]
  },
  {
   "cell_type": "code",
   "execution_count": null,
   "id": "21461536",
   "metadata": {},
   "outputs": [
    {
     "name": "stdout",
     "output_type": "stream",
     "text": [
      "15\n"
     ]
    },
    {
     "data": {
      "text/plain": [
       "Text(0.5, 0, '$x$ (m)')"
      ]
     },
     "execution_count": 72,
     "metadata": {},
     "output_type": "execute_result"
    },
    {
     "data": {
      "image/png": "[encoded data removed]",
      "text/plain": [
       "<Figure size 750x750 with 2 Axes>"
      ]
     },
     "metadata": {},
     "output_type": "display_data"
    }
   ],
   "source": [
    "import matplotlib\n",
    "from mpl_toolkits.axes_grid1 import make_axes_locatable\n",
    "\n",
    "# Create figure\n",
    "fig = plt.figure(figsize=(5,5), dpi=150)\n",
    "ax = fig.add_subplot(111)\n",
    "ax.set_aspect(\"equal\")\n",
    "ax.axhline(0, c=\"k\", lw=0.5)\n",
    "ax.axvline(0, c=\"k\", lw=0.5)\n",
    "ax.axvline(xf(theta_0, v_mag_0), c=\"r\", ls=\"--\", label=\"range\")\n",
    "\n",
    "# Create viridis color map for each line in trj_all\n",
    "cmap = matplotlib.colormaps.get_cmap('viridis')\n",
    "colors = cmap(np.linspace(0, 1, len(trj_all)))\n",
    "for trj, c in zip(trj_all, colors):\n",
    "    ax.plot(trj[:,0], trj[:,1], c=c, alpha=1.0)\n",
    "\n",
    "# Add colorbar\n",
    "sm = plt.cm.ScalarMappable(cmap=cmap, norm=plt.Normalize(vmin=0, vmax=len(trj_all)))\n",
    "sm.set_array([])\n",
    "divider = make_axes_locatable(ax)\n",
    "cax = divider.append_axes(\"right\", size=\"5%\", pad=0.1)\n",
    "cbar = plt.colorbar(sm, cax=cax)\n",
    "cbar.set_label(\"Iteration\")\n",
    "ax.set_xlabel(r\"$x$ (m)\")"
   ]
  },
  {
   "cell_type": "markdown",
   "id": "8f058472",
   "metadata": {},
   "source": [
    "## Example Progression\n",
    "\n",
    "### 1. **Flat Ground, No Drag**  \n",
    "- Closed-form:\n",
    "  \\begin{aligned}\n",
    "  x_f = \\frac{v_0^2 \\sin(2\\theta)}{g}\n",
    "  \\end{aligned}\n",
    "- Use `jax.grad()` to verify with autodiff\n",
    "\n",
    "### 2. **Elevated Target (`y_f ≠ 0`)**  \n",
    "- Requires numerical integration\n",
    "- Use `lax.scan` and interpolation to find ground-crossing\n",
    "- `jax.jacfwd()` gives sensitivity w.r.t. `v_0`, `θ`\n",
    "\n",
    "### 3. **Quadratic Drag**  \n",
    "- Realistic dynamics: \n",
    "  \\[\n",
    "  \\vec{a} = -g\\hat{j} - k|\\vec{v}|\\vec{v}\n",
    "  \\]\n",
    "- No closed form → full autodiff pipeline with `jax.scan + grad`\n",
    "\n",
    "### 4. Applications: Inverse Learning and Gradient-based Parameter Estimation\n",
    "- Define loss:  \n",
    "  \\[\n",
    "  \\text{loss} = (x_f - x_{\\text{target}})^2\n",
    "  \\]\n",
    "- Use gradients to find optimal `v_0, θ` via gradient descent or Newton\n",
    "\n",
    "---\n"
   ]
  },
  {
   "cell_type": "markdown",
   "id": "4d0ad7b2",
   "metadata": {},
   "source": [
    "## Other Features\n",
    "\n",
    "### Convenient Batch Processing: Efficient Monte-carlo Simulations\n",
    "\n",
    "### Auto-regressive Machine-Learning Dynamics Stepper"
   ]
  },
  {
   "cell_type": "markdown",
   "id": "a6beb9bd",
   "metadata": {},
   "source": [
    "## Broader Applications\n",
    "\n",
    "### Fluid Dynamics\n",
    "- Use `jax-fluids` or roll your own Navier-Stokes solver\n",
    "- Differentiable solvers enable:\n",
    "  - Optimal flow control\n",
    "  - Inverse design (e.g., airfoils, heat exchangers)\n",
    "\n",
    "### Finite Element Methods (FEM)\n",
    "- Libraries like `jax-fem` let you solve elasticity, diffusion, etc.\n",
    "- Backprop through the solver → useful for:\n",
    "  - Material property inference\n",
    "  - Data-driven constitutive modeling\n",
    "\n",
    "### ML-Physics Fusion\n",
    "- Replace parts of your model with learned surrogates (hybrid modeling)\n",
    "- Use PINNs (Physics-Informed Neural Networks)\n",
    "- Gradient-based tuning of physical parameters from data\n",
    "\n",
    "---\n",
    "\n",
    "## Conclusion\n",
    "\n",
    "- **JAX enables differentiable simulation**, blending physics and ML.\n",
    "- Even for simple systems like ballistic motion, the value of autodiff emerges quickly.\n",
    "- As complexity grows, autodiff becomes indispensable.\n",
    "- Use cases span:\n",
    "  - Aerospace trajectory optimization\n",
    "  - Inverse CFD/FEM problems\n",
    "  - Scientific ML and hybrid models\n"
   ]
  },
  {
   "cell_type": "markdown",
   "id": "69532b3f",
   "metadata": {},
   "source": []
  }
 ],
 "metadata": {
  "kernelspec": {
   "display_name": "jax-env",
   "language": "python",
   "name": "python3"
  },
  "language_info": {
   "codemirror_mode": {
    "name": "ipython",
    "version": 3
   },
   "file_extension": ".py",
   "mimetype": "text/x-python",
   "name": "python",
   "nbconvert_exporter": "python",
   "pygments_lexer": "ipython3",
   "version": "3.11.11"
  }
 },
 "nbformat": 4,
 "nbformat_minor": 5
}
